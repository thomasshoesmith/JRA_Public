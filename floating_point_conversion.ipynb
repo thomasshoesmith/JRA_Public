{
 "cells": [
  {
   "cell_type": "markdown",
   "metadata": {},
   "source": [
    "# Floating Point representation 2.0\n",
    "## Thomas Shoesmith (undergraduate Research)\n",
    "### using unsigned exponent to 17bit representation\n",
    "### fixed alpha value"
   ]
  },
  {
   "cell_type": "code",
   "execution_count": 3,
   "metadata": {},
   "outputs": [],
   "source": [
    "import matplotlib.pyplot as plt\n",
    "import numpy as np\n",
    "import math"
   ]
  },
  {
   "cell_type": "markdown",
   "metadata": {},
   "source": [
    "## Decimal to spike neuron (fs/fp-conversion)"
   ]
  },
  {
   "cell_type": "code",
   "execution_count": 24,
   "metadata": {},
   "outputs": [
    {
     "name": "stdout",
     "output_type": "stream",
     "text": [
      "man_start:\t 10.0\n",
      "exponent:\t 1\n",
      "exp elim:\t 16\n",
      "T: \t\t [10.    5.    2.5   1.25]\n",
      "x:\t\t 19\n",
      "α:\t\t 20\n",
      "output:\t\t 00011111\n"
     ]
    }
   ],
   "source": [
    "alpha = 17\n",
    "\n",
    "\n",
    "def fp_d2s(x, K = 8, elim = 4, w = 1, alpha = 20):\n",
    "\n",
    "\n",
    "    man_start = alpha\n",
    "    exponent = 0\n",
    "\n",
    "    while man_start > x and exponent < 2**elim - 1:\n",
    "        exponent += 1\n",
    "        man_start = man_start / 2\n",
    "\n",
    "\n",
    "    print(\"man_start:\\t\", man_start)   \n",
    "    print(\"exponent:\\t\", exponent)   \n",
    "    print(\"exp elim:\\t\", 2**elim )\n",
    "\n",
    "    T = man_start * 2* 2**(-K) * np.array([float(2 ** (K - i)) for i in range(1, K + 1)]).astype(np.float32)\n",
    "\n",
    "    print(\"T: \\t\\t\", T)\n",
    "    print(\"x:\\t\\t\", x)\n",
    "    print(\"α:\\t\\t\", alpha)\n",
    "\n",
    "    exponent = format(abs(exponent), \"b\")\n",
    "\n",
    "    while len(exponent) < elim:\n",
    "        exponent = \"0\" + exponent\n",
    "    \n",
    "    # mantessa\n",
    "    z = []\n",
    "    for t in T:\n",
    "        if t <= x:\n",
    "            x = x - t\n",
    "            z.append(\"1\")   \n",
    "        else:\n",
    "            z.append(\"0\")\n",
    "\n",
    "\n",
    "    man = ''.join(z)\n",
    "\n",
    "    return exponent + man\n",
    "\n",
    "\n",
    "print(\"output:\\t\\t\", fp_d2s(x =  19, K = 4, elim = 4))"
   ]
  },
  {
   "cell_type": "markdown",
   "metadata": {},
   "source": [
    "# Spike to Decimal neuron (fs/fp-conversion)"
   ]
  },
  {
   "cell_type": "code",
   "execution_count": 25,
   "metadata": {},
   "outputs": [
    {
     "name": "stdout",
     "output_type": "stream",
     "text": [
      "exp : 1\n",
      "man : ['1', '1', '1', '1']\n",
      "man_start:  10.0\n",
      "[10.    5.    2.5   1.25]\n",
      "18.75\n"
     ]
    }
   ],
   "source": [
    "def fp_s2d(x, K = 8, elim = 4, w = 1, alpha = 20):\n",
    "    exp = int(x[:elim], 2)\n",
    "    man = list(x[elim:])\n",
    "\n",
    "    man_start = alpha\n",
    "\n",
    "    print(\"exp :\", exp)\n",
    "    print(\"man :\", man)\n",
    "\n",
    "    while exp > 0:\n",
    "        exp -= 1\n",
    "        man_start = man_start / 2\n",
    "        \n",
    "    print(\"man_start: \", man_start)   \n",
    "    \n",
    "    T = man_start * 2* 2**(-K) * np.array([float(2 ** (K - i)) for i in range(1, K + 1)]).astype(np.float32)\n",
    "\n",
    "    print(T)\n",
    "    # mantessa\n",
    "    z = 0\n",
    "\n",
    "    for i in range(len(man)):\n",
    "        if man[i] == \"1\":\n",
    "            z += T[i]\n",
    "\n",
    "    return z\n",
    "\n",
    "print(fp_s2d(\"00011111\", K = 4, elim = 4))"
   ]
  },
  {
   "cell_type": "markdown",
   "metadata": {},
   "source": [
    "# Testing"
   ]
  },
  {
   "cell_type": "code",
   "execution_count": 4,
   "metadata": {},
   "outputs": [
    {
     "name": "stdout",
     "output_type": "stream",
     "text": [
      "man_start:  0.0006103515625\n",
      "exponent :  15\n",
      "exp elim :  16\n",
      "T:  [6.1035156e-04 3.0517578e-04 1.5258789e-04 7.6293945e-05 3.8146973e-05\n",
      " 1.9073486e-05 9.5367432e-06 4.7683716e-06]\n",
      "x:  0.0002\n",
      "α:  20\n",
      "4\n",
      "exp : 15\n",
      "man : ['0', '0', '1', '0', '1', '0', '0', '1']\n",
      "man_start:  0.0006103515625\n",
      "[6.1035156e-04 3.0517578e-04 1.5258789e-04 7.6293945e-05 3.8146973e-05\n",
      " 1.9073486e-05 9.5367432e-06 4.7683716e-06]\n",
      "0.00019550323486328125\n"
     ]
    }
   ],
   "source": [
    "x = fp_d2s(x = 0.0002 , K = 8, elim = 4)\n",
    "print(fp_s2d(x, K = 8, elim = 4))"
   ]
  },
  {
   "cell_type": "markdown",
   "metadata": {},
   "source": [
    "# POLISHED\n"
   ]
  },
  {
   "cell_type": "code",
   "execution_count": 5,
   "metadata": {},
   "outputs": [
    {
     "name": "stdout",
     "output_type": "stream",
     "text": [
      "111100101001\n"
     ]
    }
   ],
   "source": [
    "def fp_d2s(x, K = 8, elim = 4, w = 1, alpha = 20):\n",
    "    if x > alpha:\n",
    "        x = alpha\n",
    "\n",
    "    man_start = alpha\n",
    "    exponent = 0\n",
    "\n",
    "    while man_start > x and exponent < 2**elim - 1:\n",
    "        exponent += 1\n",
    "        man_start = man_start / 2\n",
    "\n",
    "    T = man_start * 2* 2**(-K) * np.array([float(2 ** (K - i)) for i in range(1, K + 1)]).astype(np.float32)\n",
    "\n",
    "    exponent = format(abs(exponent), \"b\")\n",
    "\n",
    "    while len(exponent) < elim:\n",
    "        exponent = \"0\" + exponent\n",
    "    \n",
    "    # mantessa\n",
    "    z = []\n",
    "    for t in T:\n",
    "        if t <= x:\n",
    "            x -= t\n",
    "            z.append(\"1\")   \n",
    "        else:\n",
    "            z.append(\"0\")\n",
    "\n",
    "    man = ''.join(z)\n",
    "\n",
    "    return exponent + man\n",
    "\n",
    "\n",
    "print(fp_d2s(x = 0.0002 , K = 8, elim = 4))"
   ]
  },
  {
   "cell_type": "code",
   "execution_count": 6,
   "metadata": {},
   "outputs": [
    {
     "name": "stdout",
     "output_type": "stream",
     "text": [
      "0.00019550323486328125\n"
     ]
    }
   ],
   "source": [
    "def fp_s2d(x, K = 8, elim = 4, w = 1, alpha = 20):\n",
    "    exp = int(x[:elim], 2)\n",
    "    man = list(x[elim:])\n",
    "\n",
    "    man_start = alpha\n",
    "\n",
    "    while exp > 0:\n",
    "        exp -= 1\n",
    "        man_start = man_start / 2\n",
    "        \n",
    "    T = man_start * 2* 2**(-K) * np.array([float(2 ** (K - i)) for i in range(1, K + 1)]).astype(np.float32)\n",
    "\n",
    "    # mantessa\n",
    "    z = 0\n",
    "    for i in range(len(man)):\n",
    "        if man[i] == \"1\":\n",
    "            z += T[i]\n",
    "\n",
    "    return z\n",
    "\n",
    "print(fp_s2d(\"111100101001\", K = 8, elim = 4))"
   ]
  },
  {
   "cell_type": "code",
   "execution_count": 7,
   "metadata": {},
   "outputs": [
    {
     "data": {
      "text/plain": [
       "0.0020122528076171875"
      ]
     },
     "execution_count": 7,
     "metadata": {},
     "output_type": "execute_result"
    }
   ],
   "source": [
    "def fp_d2d(x, K = 8, elim = 4, w = 1, alpha = 20):\n",
    "    return(fp_s2d(fp_d2s(x, K, elim, w, alpha), K, elim, w, alpha))\n",
    "\n",
    "fp_d2d(x = 0.002020202, w = 1)"
   ]
  },
  {
   "cell_type": "code",
   "execution_count": 8,
   "metadata": {},
   "outputs": [
    {
     "name": "stdout",
     "output_type": "stream",
     "text": [
      "8.984375\n"
     ]
    }
   ],
   "source": [
    "alpha = 20\n",
    "\n",
    "print(fp_s2d(fp_d2s(x = 9 , K = 8, elim = 4, alpha = alpha), K = 8, elim = 4, alpha = alpha))"
   ]
  },
  {
   "cell_type": "markdown",
   "metadata": {},
   "source": [
    "# plotting"
   ]
  },
  {
   "cell_type": "code",
   "execution_count": 1,
   "metadata": {},
   "outputs": [],
   "source": [
    "# Few-Spikes Neuron\n",
    "# x = input \n",
    "# K = timesteps K = 1, ... t \n",
    "# α = value representation range (cap)\n",
    "\n",
    "def fs(x, K = 10, alpha = 25):\n",
    "    t = 0\n",
    "    fx = 0\n",
    "    v =  np.zeros(K)\n",
    "    z = np.zeros(K) \n",
    "\n",
    "    T = alpha * 2**(-K) * np.array([float(2 ** (K - i)) for i in range(1, K + 1)]).astype(np.float32)\n",
    "    h = alpha * 2**(-K) * np.array([float(2 ** (K - i)) for i in range(1, K + 1)]).astype(np.float32)\n",
    "    d = alpha * 2**(-K) * np.array([float(2 ** (K - i)) for i in range(1, K + 1)]).astype(np.float32)\n",
    "\n",
    "    print(h)\n",
    "\n",
    "    v[0] = x\n",
    "\n",
    "    while t < K:         \n",
    "        # spike if voltage > threshold, reset if spike.\n",
    "        if v[t] >= T[t]:\n",
    "            z[t] = 1\n",
    "            v[t] = v[t] - h[t]  \n",
    "\n",
    "        # copy over value once reduced.\n",
    "        if t + 1 < K:\n",
    "            v[t + 1] =  v[t] # no need to reduce further as this has already been shortened.\n",
    "\n",
    "        # sum voltage if spike\n",
    "        fx += z[t] * h[t] #* 0.5\n",
    "        t += 1\n",
    "\n",
    "    return z, fx # outputs tuple of spike train and sum (sum for configuration)"
   ]
  },
  {
   "cell_type": "code",
   "execution_count": 4,
   "metadata": {},
   "outputs": [
    {
     "name": "stdout",
     "output_type": "stream",
     "text": [
      "[12.5         6.25        3.125       1.5625      0.78125     0.390625\n",
      "  0.1953125   0.09765625  0.04882812  0.02441406]\n",
      "(array([0., 1., 0., 0., 0., 1., 1., 1., 1., 0.]), 6.982421875)\n"
     ]
    }
   ],
   "source": [
    "print(fs(7))"
   ]
  },
  {
   "cell_type": "code",
   "execution_count": 117,
   "metadata": {},
   "outputs": [
    {
     "data": {
      "image/png": "[encoded data removed]",
      "text/plain": [
       "<Figure size 432x288 with 1 Axes>"
      ]
     },
     "metadata": {
      "needs_background": "light"
     },
     "output_type": "display_data"
    },
    {
     "data": {
      "image/png": "[encoded data removed]",
      "text/plain": [
       "<Figure size 432x288 with 1 Axes>"
      ]
     },
     "metadata": {
      "needs_background": "light"
     },
     "output_type": "display_data"
    },
    {
     "data": {
      "image/png": "[encoded data removed]",
      "text/plain": [
       "<Figure size 432x288 with 1 Axes>"
      ]
     },
     "metadata": {
      "needs_background": "light"
     },
     "output_type": "display_data"
    },
    {
     "name": "stdout",
     "output_type": "stream",
     "text": [
      "difference between input and representation from fp 22.395706103066914\n",
      "difference between input and representation from fs 19.5312499263091\n",
      "percentage difference between fp and fs 13.664031201076646\n"
     ]
    }
   ],
   "source": [
    "fs_ReLU = []\n",
    "fp_ReLU = []\n",
    "\n",
    "fs_diff = 0\n",
    "fp_diff = 0\n",
    "\n",
    "range1 = 0\n",
    "range2 = 1\n",
    "# fewer spikes neuron\n",
    "fs_K = 8\n",
    "fs_a = 10\n",
    "# floating point neuron\n",
    "fp_K = 4\n",
    "fp_e = 4\n",
    "fp_a = 10\n",
    "\n",
    "weight = 1\n",
    "\n",
    "#xlim\n",
    "x1, x2 = range1, range2\n",
    "\n",
    "\n",
    "x = np.linspace(range1, range2, 1000, dtype=np.float32)\n",
    "\n",
    "for i in range(len(x)):\n",
    "    fp_diff += abs(x[i] - fp_d2d(x[i], fp_K, fp_e, weight, fp_a))\n",
    "    fs_diff += abs(x[i] - fs(x[i], fs_K, fs_a)[1])\n",
    "    fp_ReLU.append(fp_d2d(x[i], fp_K, fp_e, weight, fp_a))\n",
    "    fs_ReLU.append(fs(x[i], fs_K, fs_a)[1])\n",
    "\n",
    "plt.plot(x, fp_ReLU)\n",
    "plt.title(\"ReLU function produced from floating point. K = {}, elim = {}\".format(fp_K, fp_e))\n",
    "plt.xlim(x1, x2)\n",
    "plt.show()\n",
    "\n",
    "plt.plot(x, fs_ReLU)\n",
    "plt.title(\"ReLU function produced from FS. K = {}, α = {}\".format(fs_K, fs_a))\n",
    "plt.xlim(x1, x2)\n",
    "plt.show()\n",
    "\n",
    "plt.plot(x, fs_ReLU, label= \"few-spikes\")\n",
    "plt.plot(x, fp_ReLU, label= \"floating point (K = {}, elim = {})\".format(fp_K, fp_e))\n",
    "plt.plot(x, x)\n",
    "plt.title(\"ReLU function. Spiked train length = {}, α = {}\".format(fs_K, fs_a))\n",
    "plt.xlim(x1, x2)\n",
    "plt.legend(loc = 4)\n",
    "plt.text((range2/20), range2 - (range2/20),  \"% difference: {}\".format(round((fs_diff - fp_diff) / ((fs_diff + fp_diff)/2)*100)))\n",
    "plt.ylabel(\"Input Value\")\n",
    "plt.xlabel(\"Output Value\")\n",
    "plt.show()\n",
    "\n",
    "\n",
    "print(\"difference between input and representation from fp {}\".format(fp_diff))\n",
    "print(\"difference between input and representation from fs {}\".format(fs_diff))\n",
    "print(\"percentage difference between fp and fs {}\".format(abs(fs_diff - fp_diff) / ((fs_diff + fp_diff)/2)*100))\n"
   ]
  },
  {
   "cell_type": "code",
   "execution_count": null,
   "metadata": {},
   "outputs": [],
   "source": [
    "#TODO single neuron test, check spike train."
   ]
  },
  {
   "cell_type": "code",
   "execution_count": 22,
   "metadata": {},
   "outputs": [
    {
     "name": "stdout",
     "output_type": "stream",
     "text": [
      "15\n",
      "16\n",
      "0.95\n",
      "0.95\n",
      "0\n",
      "0\n",
      "exponent value: 1\n",
      "0.95\n",
      "(bitarray('1111'), bitarray('0000'))\n",
      "18.75\n"
     ]
    }
   ],
   "source": [
    "import bitarray.util as bu\n",
    "import math\n",
    "def encode(x, alpha, exp_bits, mantissa_bits):\n",
    "    # Calculate maximum mantissa value\n",
    "    max_exp = (2 ** exp_bits) - 1\n",
    "    print(max_exp)\n",
    "    # Calculate what integer equivalent of mantissa of one will be\n",
    "    mantissa_one = 2 ** mantissa_bits  #TODO function POW(2'.. check\n",
    "    print(mantissa_one)\n",
    "    # Get fraction of alpha we need to encode\n",
    "    relative_x = x / alpha\n",
    "    print(relative_x)\n",
    "    assert relative_x < 1.0\n",
    "    print(relative_x)\n",
    "    # Calculate integer exponent (will be < 1) and clamp\n",
    "    if x != 0:\n",
    "        exponent = math.ceil(math.log2(relative_x)) #TODO look into log2 and ceil\n",
    "        print(exponent)\n",
    "        exponent = max(-max_exp, min(0, exponent)) #TODO math\n",
    "        print(exponent)\n",
    "    #exponent = 0 if x == 0: else exponent = 19\n",
    "    # Calculate value this exponent will represent\n",
    "    exponent_value = 2 ** exponent\n",
    "    print(\"exponent value:\", exponent_value)\n",
    "\n",
    "\n",
    "    # Calculate floating point mantissa value\n",
    "    mantissa = relative_x / exponent_value\n",
    "    print(mantissa)\n",
    "    assert mantissa < 1.0\n",
    "    # Convert mantissa to fixed point bitarray and (negated) exponent to bitarray\n",
    "    return (bu.int2ba(round(mantissa * mantissa_one), length=mantissa_bits),\n",
    "            bu.int2ba(-exponent, length=exp_bits))\n",
    "            \n",
    "def decode(value, alpha):\n",
    "    # Calculate what integer equivalent of mantissa of one will be\n",
    "    mantissa_one = 2.0 ** len(value[0])\n",
    "    # Extract components\n",
    "    exp = bu.ba2int(value[1])\n",
    "    mantissa = bu.ba2int(value[0])\n",
    "    # Re-assemble floating point value\n",
    "    return alpha * (2.0 ** -exp) * (mantissa / mantissa_one)\n",
    "alpha = 20.0\n",
    "code = encode(19, alpha, 4, 4)\n",
    "print(code)\n",
    "print(decode(code, alpha))"
   ]
  },
  {
   "cell_type": "code",
   "execution_count": null,
   "metadata": {},
   "outputs": [],
   "source": []
  }
 ],
 "metadata": {
  "interpreter": {
   "hash": "4badd61a3eb0a98b49024dc08b6e569de2eac3230396ff1e691db44e3b600cf6"
  },
  "kernelspec": {
   "display_name": "Python 3.9.5 64-bit",
   "name": "python3"
  },
  "language_info": {
   "codemirror_mode": {
    "name": "ipython",
    "version": 3
   },
   "file_extension": ".py",
   "mimetype": "text/x-python",
   "name": "python",
   "nbconvert_exporter": "python",
   "pygments_lexer": "ipython3",
   "version": "3.8.8"
  },
  "orig_nbformat": 4
 },
 "nbformat": 4,
 "nbformat_minor": 2
}
